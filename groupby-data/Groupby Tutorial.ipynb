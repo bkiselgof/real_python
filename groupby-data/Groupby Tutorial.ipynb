{
 "cells": [
  {
   "cell_type": "markdown",
   "metadata": {},
   "source": [
    "https://realpython.com/pandas-groupby/"
   ]
  },
  {
   "cell_type": "markdown",
   "metadata": {},
   "source": [
    "# Pandas GroupBy: Your Guide to Grouping Data in Python"
   ]
  },
  {
   "cell_type": "code",
   "execution_count": null,
   "metadata": {},
   "outputs": [],
   "source": [
    "Table of Contents\n",
    "\n",
    "Housekeeping\n",
    "Example 1: U.S. Congress Dataset\n",
    "The “Hello, World!” of Pandas GroupBy\n",
    "Pandas GroupBy vs SQL\n",
    "How Pandas GroupBy Works\n",
    "Example 2: Air Quality Dataset\n",
    "Grouping on Derived Arrays\n",
    "Resampling\n",
    "Example 3: News Aggregator Dataset\n",
    "Using Lambda Functions in .groupby()\n",
    "Improving the Performance of .groupby()\n",
    "Pandas GroupBy: Putting It All Together\n",
    "Conclusion\n",
    "More Resources on Pandas GroupBy"
   ]
  },
  {
   "cell_type": "code",
   "execution_count": 2,
   "metadata": {},
   "outputs": [],
   "source": [
    "#The examples here also use a few tweaked Pandas options for friendlier output:\n",
    "\n",
    "import pandas as pd\n",
    "\n",
    "# Use 3 decimal places in output display\n",
    "pd.set_option(\"display.precision\", 3)\n",
    "\n",
    "# Don't wrap repr(DataFrame) across additional lines\n",
    "pd.set_option(\"display.expand_frame_repr\", False)\n",
    "\n",
    "# Set max rows displayed in output to 25\n",
    "pd.set_option(\"display.max_rows\", 25)"
   ]
  },
  {
   "cell_type": "code",
   "execution_count": null,
   "metadata": {},
   "outputs": [],
   "source": [
    "The -d option lets you extract the contents to a new folder:\n",
    "\n",
    "./\n",
    "│\n",
    "└── groupby-data/\n",
    "    │\n",
    "    ├── legislators-historical.csv\n",
    "    ├── airqual.csv\n",
    "    └── news.csv"
   ]
  },
  {
   "cell_type": "markdown",
   "metadata": {},
   "source": [
    "## Example 1: U.S. Congress Dataset"
   ]
  },
  {
   "cell_type": "code",
   "execution_count": 4,
   "metadata": {},
   "outputs": [],
   "source": [
    "import pandas as pd\n",
    "\n",
    "dtypes = {\n",
    "    \"first_name\": \"category\",\n",
    "    \"gender\": \"category\",\n",
    "    \"type\": \"category\",\n",
    "    \"state\": \"category\",\n",
    "    \"party\": \"category\",\n",
    "}\n",
    "df = pd.read_csv(\n",
    "    \"legislators-historical.csv\",\n",
    "    dtype=dtypes,\n",
    "    usecols=list(dtypes) + [\"birthday\", \"last_name\"],\n",
    "    parse_dates=[\"birthday\"]\n",
    ")"
   ]
  },
  {
   "cell_type": "code",
   "execution_count": 5,
   "metadata": {},
   "outputs": [
    {
     "name": "stdout",
     "output_type": "stream",
     "text": [
      "<class 'pandas.core.frame.DataFrame'>\n",
      "RangeIndex: 12045 entries, 0 to 12044\n",
      "Data columns (total 7 columns):\n",
      " #   Column      Non-Null Count  Dtype         \n",
      "---  ------      --------------  -----         \n",
      " 0   last_name   12045 non-null  object        \n",
      " 1   first_name  12045 non-null  category      \n",
      " 2   birthday    11495 non-null  datetime64[ns]\n",
      " 3   gender      12045 non-null  category      \n",
      " 4   type        12045 non-null  category      \n",
      " 5   state       12045 non-null  category      \n",
      " 6   party       11813 non-null  category      \n",
      "dtypes: category(5), datetime64[ns](1), object(1)\n",
      "memory usage: 317.2+ KB\n"
     ]
    }
   ],
   "source": [
    "df.info()"
   ]
  },
  {
   "cell_type": "code",
   "execution_count": 7,
   "metadata": {},
   "outputs": [
    {
     "data": {
      "text/html": [
       "<div>\n",
       "<style scoped>\n",
       "    .dataframe tbody tr th:only-of-type {\n",
       "        vertical-align: middle;\n",
       "    }\n",
       "\n",
       "    .dataframe tbody tr th {\n",
       "        vertical-align: top;\n",
       "    }\n",
       "\n",
       "    .dataframe thead th {\n",
       "        text-align: right;\n",
       "    }\n",
       "</style>\n",
       "<table border=\"1\" class=\"dataframe\">\n",
       "  <thead>\n",
       "    <tr style=\"text-align: right;\">\n",
       "      <th></th>\n",
       "      <th>last_name</th>\n",
       "      <th>first_name</th>\n",
       "      <th>birthday</th>\n",
       "      <th>gender</th>\n",
       "      <th>type</th>\n",
       "      <th>state</th>\n",
       "      <th>party</th>\n",
       "    </tr>\n",
       "  </thead>\n",
       "  <tbody>\n",
       "    <tr>\n",
       "      <th>12040</th>\n",
       "      <td>Riggleman</td>\n",
       "      <td>Denver</td>\n",
       "      <td>1970-03-01</td>\n",
       "      <td>M</td>\n",
       "      <td>rep</td>\n",
       "      <td>VA</td>\n",
       "      <td>Republican</td>\n",
       "    </tr>\n",
       "    <tr>\n",
       "      <th>12041</th>\n",
       "      <td>Hall</td>\n",
       "      <td>Kwanza</td>\n",
       "      <td>1971-05-01</td>\n",
       "      <td>M</td>\n",
       "      <td>rep</td>\n",
       "      <td>GA</td>\n",
       "      <td>Democrat</td>\n",
       "    </tr>\n",
       "    <tr>\n",
       "      <th>12042</th>\n",
       "      <td>Richmond</td>\n",
       "      <td>Cedric</td>\n",
       "      <td>1973-09-13</td>\n",
       "      <td>M</td>\n",
       "      <td>rep</td>\n",
       "      <td>LA</td>\n",
       "      <td>Democrat</td>\n",
       "    </tr>\n",
       "    <tr>\n",
       "      <th>12043</th>\n",
       "      <td>Harris</td>\n",
       "      <td>Kamala</td>\n",
       "      <td>1964-10-20</td>\n",
       "      <td>F</td>\n",
       "      <td>sen</td>\n",
       "      <td>CA</td>\n",
       "      <td>Democrat</td>\n",
       "    </tr>\n",
       "    <tr>\n",
       "      <th>12044</th>\n",
       "      <td>Loeffler</td>\n",
       "      <td>Kelly</td>\n",
       "      <td>1970-11-27</td>\n",
       "      <td>F</td>\n",
       "      <td>sen</td>\n",
       "      <td>GA</td>\n",
       "      <td>Republican</td>\n",
       "    </tr>\n",
       "  </tbody>\n",
       "</table>\n",
       "</div>"
      ],
      "text/plain": [
       "       last_name first_name   birthday gender type state       party\n",
       "12040  Riggleman     Denver 1970-03-01      M  rep    VA  Republican\n",
       "12041       Hall     Kwanza 1971-05-01      M  rep    GA    Democrat\n",
       "12042   Richmond     Cedric 1973-09-13      M  rep    LA    Democrat\n",
       "12043     Harris     Kamala 1964-10-20      F  sen    CA    Democrat\n",
       "12044   Loeffler      Kelly 1970-11-27      F  sen    GA  Republican"
      ]
     },
     "execution_count": 7,
     "metadata": {},
     "output_type": "execute_result"
    }
   ],
   "source": [
    "df.tail()"
   ]
  },
  {
   "cell_type": "code",
   "execution_count": 8,
   "metadata": {},
   "outputs": [
    {
     "data": {
      "text/plain": [
       "last_name             object\n",
       "first_name          category\n",
       "birthday      datetime64[ns]\n",
       "gender              category\n",
       "type                category\n",
       "state               category\n",
       "party               category\n",
       "dtype: object"
      ]
     },
     "execution_count": 8,
     "metadata": {},
     "output_type": "execute_result"
    }
   ],
   "source": [
    "#The DataFrame uses categorical dtypes for space efficiency:\n",
    "\n",
    "df.dtypes"
   ]
  },
  {
   "cell_type": "markdown",
   "metadata": {},
   "source": [
    "You can see that most columns of the dataset have the type category, which reduces the memory load on your machine."
   ]
  },
  {
   "cell_type": "code",
   "execution_count": null,
   "metadata": {},
   "outputs": [],
   "source": [
    "The “Hello, World!” of Pandas GroupBy\n",
    "Now that you’re familiar with the dataset, you’ll start with a “Hello, World!” for the Pandas GroupBy operation. What is the count of Congressional members, on a state-by-state basis, over the entire history of the dataset? In SQL, you could find this answer with a SELECT statement:\n",
    "\n",
    "SELECT state, count(name)\n",
    "FROM df\n",
    "GROUP BY state\n",
    "ORDER BY state;"
   ]
  },
  {
   "cell_type": "code",
   "execution_count": 9,
   "metadata": {},
   "outputs": [
    {
     "data": {
      "text/plain": [
       "state\n",
       "AK     16\n",
       "AL    209\n",
       "AR    117\n",
       "AS      2\n",
       "AZ     49\n",
       "CA    367\n",
       "CO     92\n",
       "CT    240\n",
       "DC      2\n",
       "DE     97\n",
       "Name: last_name, dtype: int64"
      ]
     },
     "execution_count": 9,
     "metadata": {},
     "output_type": "execute_result"
    }
   ],
   "source": [
    "#Here’s the near-equivalent in Pandas:\n",
    "\n",
    "n_by_state = df.groupby(\"state\")[\"last_name\"].count()\n",
    "n_by_state.head(10)"
   ]
  },
  {
   "cell_type": "markdown",
   "metadata": {},
   "source": [
    "You call .groupby() and pass the name of the column you want to group on, which is \"state\". Then, you use [\"last_name\"] to specify the columns on which you want to perform the actual aggregation.\n",
    "\n",
    "You can pass a lot more than just a single column name to .groupby() as the first argument. You can also specify any of the following:\n",
    "\n",
    "A list of multiple column names\n",
    "A dict or Pandas Series\n",
    "A NumPy array or Pandas Index, or an array-like iterable of these\n",
    "Here’s an example of grouping jointly on two columns, which finds the count of Congressional members broken out by state and then by gender:"
   ]
  },
  {
   "cell_type": "code",
   "execution_count": 10,
   "metadata": {},
   "outputs": [
    {
     "data": {
      "text/plain": [
       "state  gender\n",
       "AK     F           0\n",
       "       M          16\n",
       "AL     F           4\n",
       "       M         205\n",
       "AR     F           5\n",
       "                ... \n",
       "WI     M         198\n",
       "WV     F           1\n",
       "       M         119\n",
       "WY     F           1\n",
       "       M          39\n",
       "Name: last_name, Length: 116, dtype: int64"
      ]
     },
     "execution_count": 10,
     "metadata": {},
     "output_type": "execute_result"
    }
   ],
   "source": [
    "df.groupby([\"state\", \"gender\"])[\"last_name\"].count()"
   ]
  },
  {
   "cell_type": "markdown",
   "metadata": {},
   "source": [
    "The analogous SQL query would look like this:\n",
    "\n",
    "SELECT state, gender, count(name)\n",
    "FROM df\n",
    "GROUP BY state, gender\n",
    "ORDER BY state, gender;"
   ]
  },
  {
   "cell_type": "markdown",
   "metadata": {},
   "source": [
    "### Pandas GroupBy vs SQL"
   ]
  },
  {
   "cell_type": "code",
   "execution_count": null,
   "metadata": {},
   "outputs": [],
   "source": [
    "This is a good time to introduce one prominent difference between the Pandas GroupBy operation and the SQL query above. The result set of the SQL query contains three columns:\n",
    "\n",
    "state\n",
    "gender\n",
    "count\n",
    "In the Pandas version, the grouped-on columns are pushed into the MultiIndex of the resulting Series by default:"
   ]
  },
  {
   "cell_type": "code",
   "execution_count": 11,
   "metadata": {},
   "outputs": [
    {
     "data": {
      "text/plain": [
       "MultiIndex([('AK', 'F'),\n",
       "            ('AK', 'M'),\n",
       "            ('AL', 'F'),\n",
       "            ('AL', 'M'),\n",
       "            ('AR', 'F')],\n",
       "           names=['state', 'gender'])"
      ]
     },
     "execution_count": 11,
     "metadata": {},
     "output_type": "execute_result"
    }
   ],
   "source": [
    "n_by_state_gender = df.groupby([\"state\", \"gender\"])[\"last_name\"].count()\n",
    "type(n_by_state_gender)\n",
    "\n",
    "n_by_state_gender.index[:5]"
   ]
  },
  {
   "cell_type": "markdown",
   "metadata": {},
   "source": [
    "To more closely emulate the SQL result and push the grouped-on columns back into columns in the result, you an use as_index=False:"
   ]
  },
  {
   "cell_type": "code",
   "execution_count": 12,
   "metadata": {},
   "outputs": [
    {
     "data": {
      "text/html": [
       "<div>\n",
       "<style scoped>\n",
       "    .dataframe tbody tr th:only-of-type {\n",
       "        vertical-align: middle;\n",
       "    }\n",
       "\n",
       "    .dataframe tbody tr th {\n",
       "        vertical-align: top;\n",
       "    }\n",
       "\n",
       "    .dataframe thead th {\n",
       "        text-align: right;\n",
       "    }\n",
       "</style>\n",
       "<table border=\"1\" class=\"dataframe\">\n",
       "  <thead>\n",
       "    <tr style=\"text-align: right;\">\n",
       "      <th></th>\n",
       "      <th>state</th>\n",
       "      <th>gender</th>\n",
       "      <th>last_name</th>\n",
       "    </tr>\n",
       "  </thead>\n",
       "  <tbody>\n",
       "    <tr>\n",
       "      <th>0</th>\n",
       "      <td>AK</td>\n",
       "      <td>F</td>\n",
       "      <td>NaN</td>\n",
       "    </tr>\n",
       "    <tr>\n",
       "      <th>1</th>\n",
       "      <td>AK</td>\n",
       "      <td>M</td>\n",
       "      <td>16.0</td>\n",
       "    </tr>\n",
       "    <tr>\n",
       "      <th>2</th>\n",
       "      <td>AL</td>\n",
       "      <td>F</td>\n",
       "      <td>4.0</td>\n",
       "    </tr>\n",
       "    <tr>\n",
       "      <th>3</th>\n",
       "      <td>AL</td>\n",
       "      <td>M</td>\n",
       "      <td>205.0</td>\n",
       "    </tr>\n",
       "    <tr>\n",
       "      <th>4</th>\n",
       "      <td>AR</td>\n",
       "      <td>F</td>\n",
       "      <td>5.0</td>\n",
       "    </tr>\n",
       "    <tr>\n",
       "      <th>...</th>\n",
       "      <td>...</td>\n",
       "      <td>...</td>\n",
       "      <td>...</td>\n",
       "    </tr>\n",
       "    <tr>\n",
       "      <th>111</th>\n",
       "      <td>WI</td>\n",
       "      <td>M</td>\n",
       "      <td>198.0</td>\n",
       "    </tr>\n",
       "    <tr>\n",
       "      <th>112</th>\n",
       "      <td>WV</td>\n",
       "      <td>F</td>\n",
       "      <td>1.0</td>\n",
       "    </tr>\n",
       "    <tr>\n",
       "      <th>113</th>\n",
       "      <td>WV</td>\n",
       "      <td>M</td>\n",
       "      <td>119.0</td>\n",
       "    </tr>\n",
       "    <tr>\n",
       "      <th>114</th>\n",
       "      <td>WY</td>\n",
       "      <td>F</td>\n",
       "      <td>1.0</td>\n",
       "    </tr>\n",
       "    <tr>\n",
       "      <th>115</th>\n",
       "      <td>WY</td>\n",
       "      <td>M</td>\n",
       "      <td>39.0</td>\n",
       "    </tr>\n",
       "  </tbody>\n",
       "</table>\n",
       "<p>116 rows × 3 columns</p>\n",
       "</div>"
      ],
      "text/plain": [
       "    state gender  last_name\n",
       "0      AK      F        NaN\n",
       "1      AK      M       16.0\n",
       "2      AL      F        4.0\n",
       "3      AL      M      205.0\n",
       "4      AR      F        5.0\n",
       "..    ...    ...        ...\n",
       "111    WI      M      198.0\n",
       "112    WV      F        1.0\n",
       "113    WV      M      119.0\n",
       "114    WY      F        1.0\n",
       "115    WY      M       39.0\n",
       "\n",
       "[116 rows x 3 columns]"
      ]
     },
     "execution_count": 12,
     "metadata": {},
     "output_type": "execute_result"
    }
   ],
   "source": [
    "df.groupby([\"state\", \"gender\"], as_index=False)[\"last_name\"].count()"
   ]
  },
  {
   "cell_type": "markdown",
   "metadata": {},
   "source": [
    "This produces a DataFrame with three columns and a RangeIndex, rather than a Series with a MultiIndex. In short, using as_index=False will make your result more closely mimic the default SQL output for a similar operation."
   ]
  },
  {
   "cell_type": "markdown",
   "metadata": {},
   "source": [
    "Note: In df.groupby([\"state\", \"gender\"])[\"last_name\"].count(), you could also use .size() instead of .count(), since you know that there are no NaN last names. Using .count() excludes NaN values, while .size() includes everything, NaN or not."
   ]
  },
  {
   "cell_type": "markdown",
   "metadata": {},
   "source": [
    "Also note that the SQL queries above explicitly use ORDER BY, whereas .groupby() does not. That’s because .groupby() does this by default through its parameter sort, which is True unless you tell it otherwise:"
   ]
  },
  {
   "cell_type": "code",
   "execution_count": 13,
   "metadata": {},
   "outputs": [
    {
     "data": {
      "text/plain": [
       "state\n",
       "DE      97\n",
       "VA     433\n",
       "SC     251\n",
       "MD     305\n",
       "PA    1053\n",
       "      ... \n",
       "AK      16\n",
       "PI      13\n",
       "VI       4\n",
       "GU       4\n",
       "AS       2\n",
       "Name: last_name, Length: 58, dtype: int64"
      ]
     },
     "execution_count": 13,
     "metadata": {},
     "output_type": "execute_result"
    }
   ],
   "source": [
    "# Don't sort results by the sort keys\n",
    "df.groupby(\"state\", sort=False)[\"last_name\"].count()"
   ]
  },
  {
   "cell_type": "markdown",
   "metadata": {},
   "source": [
    "### How Pandas GroupBy Works"
   ]
  },
  {
   "cell_type": "code",
   "execution_count": 14,
   "metadata": {},
   "outputs": [
    {
     "name": "stdout",
     "output_type": "stream",
     "text": [
      "<pandas.core.groupby.generic.DataFrameGroupBy object at 0x7f512f203a50>\n"
     ]
    }
   ],
   "source": [
    "#Before you get any further into the details, take a step back to look at .groupby() itself:\n",
    "\n",
    "by_state = df.groupby(\"state\")\n",
    "print(by_state)"
   ]
  },
  {
   "cell_type": "markdown",
   "metadata": {},
   "source": [
    "What is that DataFrameGroupBy thing? Its .__str__() doesn’t give you much information into what it actually is or how it works. The reason that a DataFrameGroupBy object can be difficult to wrap your head around is that it’s lazy in nature. It doesn’t really do any operations to produce a useful result until you say so.\n",
    "\n",
    "One term that’s frequently used alongside .groupby() is split-apply-combine. This refers to a chain of three steps:\n",
    "\n",
    "Split a table into groups\n",
    "Apply some operations to each of those smaller tables\n",
    "Combine the results\n",
    "It can be difficult to inspect df.groupby(\"state\") because it does virtually none of these things until you do something with the resulting object. Again, a Pandas GroupBy object is lazy. It delays virtually every part of the split-apply-combine process until you invoke a method on it."
   ]
  },
  {
   "cell_type": "markdown",
   "metadata": {},
   "source": [
    "So, how can you mentally separate the split, apply, and combine stages if you can’t see any of them happening in isolation? One useful way to inspect a Pandas GroupBy object and see the splitting in action is to iterate over it. This is implemented in DataFrameGroupBy.__iter__() and produces an iterator of (group, DataFrame) pairs for DataFrames:"
   ]
  },
  {
   "cell_type": "code",
   "execution_count": 15,
   "metadata": {},
   "outputs": [
    {
     "name": "stdout",
     "output_type": "stream",
     "text": [
      "First 2 entries for 'AK'\n",
      "------------------------\n",
      "     last_name first_name   birthday gender type state        party\n",
      "6617    Waskey      Frank 1875-04-20      M  rep    AK     Democrat\n",
      "6645      Cale     Thomas 1848-09-17      M  rep    AK  Independent\n",
      "\n",
      "First 2 entries for 'AL'\n",
      "------------------------\n",
      "    last_name first_name   birthday gender type state       party\n",
      "911   Crowell       John 1780-09-18      M  rep    AL  Republican\n",
      "990    Walker       John 1783-08-12      M  sen    AL  Republican\n",
      "\n",
      "First 2 entries for 'AR'\n",
      "------------------------\n",
      "     last_name first_name   birthday gender type state party\n",
      "1000     Bates      James 1788-08-25      M  rep    AR   NaN\n",
      "1278    Conway      Henry 1793-03-18      M  rep    AR   NaN\n",
      "\n",
      "First 2 entries for 'AS'\n",
      "------------------------\n",
      "          last_name first_name   birthday gender type state     party\n",
      "10795         Sunia       Fofó 1937-03-13      M  rep    AS  Democrat\n",
      "11752  Faleomavaega        Eni 1943-08-15      M  rep    AS  Democrat\n",
      "\n",
      "First 2 entries for 'AZ'\n",
      "------------------------\n",
      "     last_name first_name   birthday gender type state       party\n",
      "3672    Poston    Charles 1825-04-20      M  rep    AZ  Republican\n",
      "3723   Goodwin       John 1824-10-18      M  rep    AZ  Republican\n",
      "\n",
      "First 2 entries for 'CA'\n",
      "------------------------\n",
      "     last_name first_name   birthday gender type state        party\n",
      "2648   Gilbert     Edward        NaT      M  rep    CA     Democrat\n",
      "2740    Wright     George 1816-06-04      M  rep    CA  Independent\n",
      "\n",
      "First 2 entries for 'CO'\n",
      "------------------------\n",
      "     last_name first_name   birthday gender type state                    party\n",
      "3612    Bennet      Hiram 1826-09-02      M  rep    CO  Conservative Republican\n",
      "3931  Bradford      Allen 1815-07-23      M  rep    CO               Republican\n",
      "\n",
      "First 2 entries for 'CT'\n",
      "------------------------\n",
      "     last_name first_name   birthday gender type state               party\n",
      "14  Huntington   Benjamin 1736-04-19      M  rep    CT                 NaN\n",
      "16     Johnson    William 1727-10-07      M  sen    CT  Pro-Administration\n",
      "\n",
      "First 2 entries for 'DC'\n",
      "------------------------\n",
      "      last_name first_name   birthday gender type state       party\n",
      "4230    Chipman     Norton 1834-03-07      M  rep    DC  Republican\n",
      "10819  Fauntroy     Walter 1933-02-06      M  rep    DC    Democrat\n",
      "\n",
      "First 2 entries for 'DE'\n",
      "------------------------\n",
      "   last_name first_name   birthday gender type state                party\n",
      "0    Bassett    Richard 1745-04-02      M  sen    DE  Anti-Administration\n",
      "40      Read     George 1733-09-18      M  sen    DE                  NaN\n",
      "\n",
      "First 2 entries for 'DK'\n",
      "------------------------\n",
      "     last_name first_name   birthday gender type state     party\n",
      "3640     Jayne    William 1826-10-08      M  rep    DK       NaN\n",
      "3685      Todd       John 1814-04-04      M  rep    DK  Democrat\n",
      "\n",
      "First 2 entries for 'FL'\n",
      "------------------------\n",
      "      last_name first_name   birthday gender type state party\n",
      "1030  Hernández     Joseph 1788-05-26      M  rep    FL   NaN\n",
      "1089       Call    Richard 1792-10-24      M  rep    FL   NaN\n",
      "\n",
      "First 2 entries for 'GA'\n",
      "------------------------\n",
      "   last_name first_name   birthday gender type state                party\n",
      "8        Few    William 1748-06-08      M  sen    GA  Anti-Administration\n",
      "20   Mathews     George 1739-08-30      M  rep    GA                  NaN\n",
      "\n",
      "First 2 entries for 'GU'\n",
      "------------------------\n",
      "      last_name first_name   birthday gender type state       party\n",
      "10702   Won Pat    Antonio 1908-12-10      M  rep    GU    Democrat\n",
      "10872      Blaz        Ben 1928-02-14      M  rep    GU  Republican\n",
      "\n",
      "First 2 entries for 'HI'\n",
      "------------------------\n",
      "     last_name first_name   birthday gender type state       party\n",
      "6393    Wilcox     Robert 1855-02-15      M  rep    HI         NaN\n",
      "7522   Baldwin      Henry 1871-01-12      M  rep    HI  Republican\n",
      "\n",
      "First 2 entries for 'IA'\n",
      "------------------------\n",
      "     last_name first_name   birthday gender type state     party\n",
      "1930   Chapman    William 1808-08-11      M  rep    IA  Democrat\n",
      "2390  Hastings   Serranus 1813-11-22      M  rep    IA  Democrat\n",
      "\n",
      "First 2 entries for 'ID'\n",
      "------------------------\n",
      "     last_name first_name   birthday gender type state       party\n",
      "3691   Wallace    William 1811-07-19      M  rep    ID  Republican\n",
      "3844  Holbrook     Edward 1836-05-06      M  rep    ID    Democrat\n",
      "\n",
      "First 2 entries for 'IL'\n",
      "------------------------\n",
      "      last_name first_name   birthday gender type state party\n",
      "595        Bond   Shadrack 1773-11-24      M  rep    IL   NaN\n",
      "772  Stephenson   Benjamin        NaT      M  rep    IL   NaN\n",
      "\n",
      "First 2 entries for 'IN'\n",
      "------------------------\n",
      "    last_name first_name   birthday gender type state       party\n",
      "431     Parke   Benjamin 1777-09-22      M  rep    IN         NaN\n",
      "984    Taylor     Waller        NaT      M  sen    IN  Republican\n",
      "\n",
      "First 2 entries for 'KS'\n",
      "------------------------\n",
      "      last_name first_name   birthday gender type state       party\n",
      "3161  Whitfield       John 1818-03-11      M  rep    KS    Democrat\n",
      "3420    Parrott     Marcus 1828-10-27      M  rep    KS  Republican\n",
      "\n",
      "First 2 entries for 'KY'\n",
      "------------------------\n",
      "    last_name   first_name birthday gender type state                party\n",
      "55    Edwards         John      NaT      M  sen    KY  Anti-Administration\n",
      "113   Greenup  Christopher      NaT      M  rep    KY           Republican\n",
      "\n",
      "First 2 entries for 'LA'\n",
      "------------------------\n",
      "     last_name first_name birthday gender type state       party\n",
      "584  Destréhan       Jean      NaT      M  sen    LA     Unknown\n",
      "585   Magruder      Allan      NaT      M  sen    LA  Republican\n",
      "\n",
      "First 2 entries for 'MA'\n",
      "------------------------\n",
      "   last_name first_name   birthday gender type state               party\n",
      "6     Dalton   Tristram 1738-05-28      M  sen    MA  Pro-Administration\n",
      "12     Grout   Jonathan 1737-07-23      M  rep    MA                 NaN\n",
      "\n",
      "First 2 entries for 'MD'\n",
      "------------------------\n",
      "  last_name first_name   birthday gender type state party\n",
      "3   Carroll     Daniel 1730-07-22      M  rep    MD   NaN\n",
      "5    Contee   Benjamin        NaT      M  rep    MD   NaN\n",
      "\n",
      "First 2 entries for 'ME'\n",
      "------------------------\n",
      "     last_name first_name   birthday gender type state       party\n",
      "1018      Dane     Joseph 1778-10-25      M  rep    ME  Federalist\n",
      "1028    Harris       Mark 1779-01-27      M  rep    ME  Republican\n",
      "\n",
      "First 2 entries for 'MI'\n",
      "------------------------\n",
      "     last_name first_name   birthday gender type state party\n",
      "1061    Sibley    Solomon 1769-10-07      M  rep    MI   NaN\n",
      "1132   Richard    Gabriel 1767-10-15      M  rep    MI   NaN\n",
      "\n",
      "First 2 entries for 'MN'\n",
      "------------------------\n",
      "      last_name first_name   birthday gender type state     party\n",
      "2864     Sibley      Henry 1811-02-20      M  rep    MN       NaN\n",
      "3239  Kingsbury    William 1828-06-04      M  rep    MN  Democrat\n",
      "\n",
      "First 2 entries for 'MO'\n",
      "------------------------\n",
      "     last_name first_name   birthday gender type state party\n",
      "627  Hempstead     Edward 1780-06-03      M  rep    MO   NaN\n",
      "712     Easton      Rufus 1774-05-04      M  rep    MO   NaN\n",
      "\n",
      "First 2 entries for 'MS'\n",
      "------------------------\n",
      "    last_name  first_name   birthday gender type state party\n",
      "256    Greene      Thomas 1758-02-26      M  rep    MS   NaN\n",
      "260    Hunter  Narsworthy        NaT      M  rep    MS   NaN\n",
      "\n",
      "First 2 entries for 'MT'\n",
      "------------------------\n",
      "      last_name first_name   birthday gender type state     party\n",
      "3754     McLean     Samuel 1826-08-07      M  rep    MT  Democrat\n",
      "3939  Cavanaugh      James 1823-07-04      M  rep    MT  Democrat\n",
      "\n",
      "First 2 entries for 'NC'\n",
      "------------------------\n",
      "   last_name first_name   birthday gender type state               party\n",
      "13   Hawkins   Benjamin 1754-08-15      M  sen    NC  Pro-Administration\n",
      "17  Johnston     Samuel 1733-12-15      M  sen    NC  Pro-Administration\n",
      "\n",
      "First 2 entries for 'ND'\n",
      "------------------------\n",
      "     last_name first_name   birthday gender type state       party\n",
      "5382     Casey      Lyman 1837-05-06      M  sen    ND  Republican\n",
      "5477    Pierce    Gilbert 1839-01-11      M  sen    ND  Republican\n",
      "\n",
      "First 2 entries for 'NE'\n",
      "------------------------\n",
      "     last_name first_name   birthday gender type state     party\n",
      "2952  Giddings   Napoleon 1816-01-02      M  rep    NE  Democrat\n",
      "3066   Chapman       Bird 1821-08-24      M  rep    NE  Democrat\n",
      "\n",
      "First 2 entries for 'NH'\n",
      "------------------------\n",
      "    last_name first_name   birthday gender type state       party\n",
      "99    Wingate      Paine 1739-05-14      M  rep    NH         NaN\n",
      "120   Langdon       John 1741-06-26      M  sen    NH  Republican\n",
      "\n",
      "First 2 entries for 'NJ'\n",
      "------------------------\n",
      "   last_name first_name   birthday gender type state               party\n",
      "7      Elmer   Jonathan 1745-11-29      M  sen    NJ  Pro-Administration\n",
      "23  Paterson    William 1745-12-24      M  sen    NJ  Pro-Administration\n",
      "\n",
      "First 2 entries for 'NM'\n",
      "------------------------\n",
      "      last_name first_name   birthday gender type state     party\n",
      "2883  Weightman    Richard 1816-12-28      M  rep    NM  Democrat\n",
      "3418      Otero     Miguel 1829-06-21      M  rep    NM       NaN\n",
      "\n",
      "First 2 entries for 'NV'\n",
      "------------------------\n",
      "        last_name first_name   birthday gender type state       party\n",
      "3508  Cradlebaugh       John 1819-02-22      M  rep    NV         NaN\n",
      "3662         Mott     Gordon 1812-10-21      M  rep    NV  Republican\n",
      "\n",
      "First 2 entries for 'NY'\n",
      "------------------------\n",
      "         last_name first_name   birthday gender type state party\n",
      "9            Floyd    William 1734-12-17      M  rep    NY   NaN\n",
      "26  Van Rensselaer   Jeremiah 1738-08-27      M  rep    NY   NaN\n",
      "\n",
      "First 2 entries for 'OH'\n",
      "------------------------\n",
      "    last_name first_name   birthday gender type state       party\n",
      "226  McMillan    William 1764-03-02      M  rep    OH         NaN\n",
      "254   Fearing       Paul 1762-02-28      M  rep    OH  Federalist\n",
      "\n",
      "First 2 entries for 'OK'\n",
      "------------------------\n",
      "     last_name first_name   birthday gender type state        party\n",
      "5599    Harvey      David 1845-03-20      M  rep    OK   Republican\n",
      "6058  Callahan      James 1852-12-19      M  rep    OK  Free Silver\n",
      "\n",
      "First 2 entries for 'OL'\n",
      "------------------------\n",
      "    last_name first_name   birthday gender type state party\n",
      "404     Clark     Daniel        NaT      M  rep    OL   NaN\n",
      "503   Poydras     Julien 1740-04-03      M  rep    OL   NaN\n",
      "\n",
      "First 2 entries for 'OR'\n",
      "------------------------\n",
      "     last_name first_name   birthday gender type state     party\n",
      "2726  Thurston     Samuel 1816-04-15      M  rep    OR  Democrat\n",
      "3396      Lane     Joseph 1801-12-14      M  sen    OR  Democrat\n",
      "\n",
      "First 2 entries for 'PA'\n",
      "------------------------\n",
      "   last_name first_name   birthday gender type state                party\n",
      "4     Clymer     George 1739-03-16      M  rep    PA                  NaN\n",
      "19    Maclay    William 1737-07-20      M  sen    PA  Anti-Administration\n",
      "\n",
      "First 2 entries for 'PI'\n",
      "------------------------\n",
      "             last_name first_name   birthday gender type state party\n",
      "6833            Ocampo      Pablo 1853-01-25      M  rep    PI   NaN\n",
      "6937  Legarda Y Tuason     Benito 1853-09-27      M  rep    PI   NaN\n",
      "\n",
      "First 2 entries for 'PR'\n",
      "------------------------\n",
      "      last_name first_name   birthday gender type state       party\n",
      "6424    Degetau   Federico 1862-12-05      M  rep    PR  Republican\n",
      "6809  Larrinaga      Tulio 1847-01-15      M  rep    PR    Unionist\n",
      "\n",
      "First 2 entries for 'RI'\n",
      "------------------------\n",
      "    last_name first_name   birthday gender type state       party\n",
      "61   Bradford    William 1729-11-04      M  sen    RI  Federalist\n",
      "105    Bourne   Benjamin 1755-09-09      M  rep    RI  Federalist\n",
      "\n",
      "First 2 entries for 'SC'\n",
      "------------------------\n",
      "   last_name first_name   birthday gender type state               party\n",
      "2      Burke    Aedanus 1743-06-16      M  rep    SC                 NaN\n",
      "15     Izard      Ralph        NaT      M  sen    SC  Pro-Administration\n",
      "\n",
      "First 2 entries for 'SD'\n",
      "------------------------\n",
      "     last_name first_name   birthday gender type state       party\n",
      "5421   Gifford      Oscar 1842-10-20      M  rep    SD  Republican\n",
      "5460     Moody     Gideon 1832-10-16      M  sen    SD  Republican\n",
      "\n",
      "First 2 entries for 'TN'\n",
      "------------------------\n",
      "    last_name first_name   birthday gender type state       party\n",
      "141     White      James 1749-06-16      M  rep    TN         NaN\n",
      "142    Blount    William 1749-03-26      M  sen    TN  Republican\n",
      "\n",
      "First 2 entries for 'TX'\n",
      "------------------------\n",
      "     last_name first_name   birthday gender type state     party\n",
      "2567  Pilsbury    Timothy 1789-04-12      M  rep    TX  Democrat\n",
      "2669   Kaufman      David 1813-12-18      M  rep    TX  Democrat\n",
      "\n",
      "First 2 entries for 'UT'\n",
      "------------------------\n",
      "      last_name first_name   birthday gender type state     party\n",
      "3482  Bernhisel       John 1799-07-23      M  rep    UT      Whig\n",
      "3645     Kinney       John 1816-04-02      M  rep    UT  Democrat\n",
      "\n",
      "First 2 entries for 'VA'\n",
      "------------------------\n"
     ]
    },
    {
     "name": "stdout",
     "output_type": "stream",
     "text": [
      "   last_name  first_name   birthday gender type state                party\n",
      "1      Bland  Theodorick 1742-03-21      M  rep    VA                  NaN\n",
      "11   Grayson     William        NaT      M  sen    VA  Anti-Administration\n",
      "\n",
      "First 2 entries for 'VI'\n",
      "------------------------\n",
      "      last_name first_name   birthday gender type state       party\n",
      "10494     Evans     Melvin 1917-08-07      M  rep    VI  Republican\n",
      "11086   de Lugo        Ron 1930-08-02      M  rep    VI    Democrat\n",
      "\n",
      "First 2 entries for 'VT'\n",
      "------------------------\n",
      "   last_name first_name   birthday gender type state                party\n",
      "41  Robinson      Moses 1741-03-22      M  sen    VT  Anti-Administration\n",
      "86     Niles  Nathaniel 1741-04-03      M  rep    VT                  NaN\n",
      "\n",
      "First 2 entries for 'WA'\n",
      "------------------------\n",
      "      last_name first_name   birthday gender type state     party\n",
      "2977  Lancaster   Columbia 1803-08-26      M  rep    WA  Democrat\n",
      "3050   Anderson      James 1822-02-16      M  rep    WA  Democrat\n",
      "\n",
      "First 2 entries for 'WI'\n",
      "------------------------\n",
      "     last_name first_name   birthday gender type state     party\n",
      "2409    Martin     Morgan 1805-03-31      M  rep    WI  Democrat\n",
      "2502   Darling      Mason 1801-05-18      M  rep    WI  Democrat\n",
      "\n",
      "First 2 entries for 'WV'\n",
      "------------------------\n",
      "       last_name first_name   birthday gender type state                   party\n",
      "3613       Blair      Jacob 1821-04-11      M  rep    WV  Unconditional Unionist\n",
      "3688  Van Winkle      Peter 1808-09-07      M  sen    WV              Republican\n",
      "\n",
      "First 2 entries for 'WY'\n",
      "------------------------\n",
      "     last_name first_name   birthday gender type state       party\n",
      "4007  Nuckolls    Stephen 1825-08-16      M  rep    WY    Democrat\n",
      "4136     Jones    William 1842-02-20      M  rep    WY  Republican\n",
      "\n"
     ]
    }
   ],
   "source": [
    "for state, frame in by_state:\n",
    "    print(f\"First 2 entries for {state!r}\")\n",
    "    print(\"------------------------\")\n",
    "    print(frame.head(2), end=\"\\n\\n\")"
   ]
  },
  {
   "cell_type": "markdown",
   "metadata": {},
   "source": [
    "If you’re working on a challenging aggregation problem, then iterating over the Pandas GroupBy object can be a great way to visualize the split part of split-apply-combine.\n",
    "\n",
    "There are a few other methods and properties that let you look into the individual groups and their splits. The .groups attribute will give you a dictionary of {group name: group label} pairs. For example, by_state is a dict with states as keys. Here’s the value for the \"PA\" key:"
   ]
  },
  {
   "cell_type": "code",
   "execution_count": 17,
   "metadata": {},
   "outputs": [
    {
     "data": {
      "text/plain": [
       "Int64Index([    4,    19,    21,    27,    38,    57,    69,    76,    84,\n",
       "               88,\n",
       "            ...\n",
       "            11838, 11862, 11871, 11873, 11883, 11887, 11926, 11938, 11952,\n",
       "            11966],\n",
       "           dtype='int64', length=1053)"
      ]
     },
     "execution_count": 17,
     "metadata": {},
     "output_type": "execute_result"
    }
   ],
   "source": [
    "by_state.groups[\"PA\"]"
   ]
  },
  {
   "cell_type": "markdown",
   "metadata": {},
   "source": [
    "Each value is a sequence of the index locations for the rows belonging to that particular group. In the output above, 4, 19, and 21 are the first indices in df at which the state equals “PA.”"
   ]
  },
  {
   "cell_type": "markdown",
   "metadata": {},
   "source": [
    "You can also use .get_group() as a way to drill down to the sub-table from a single group:"
   ]
  },
  {
   "cell_type": "code",
   "execution_count": 18,
   "metadata": {},
   "outputs": [
    {
     "data": {
      "text/html": [
       "<div>\n",
       "<style scoped>\n",
       "    .dataframe tbody tr th:only-of-type {\n",
       "        vertical-align: middle;\n",
       "    }\n",
       "\n",
       "    .dataframe tbody tr th {\n",
       "        vertical-align: top;\n",
       "    }\n",
       "\n",
       "    .dataframe thead th {\n",
       "        text-align: right;\n",
       "    }\n",
       "</style>\n",
       "<table border=\"1\" class=\"dataframe\">\n",
       "  <thead>\n",
       "    <tr style=\"text-align: right;\">\n",
       "      <th></th>\n",
       "      <th>last_name</th>\n",
       "      <th>first_name</th>\n",
       "      <th>birthday</th>\n",
       "      <th>gender</th>\n",
       "      <th>type</th>\n",
       "      <th>state</th>\n",
       "      <th>party</th>\n",
       "    </tr>\n",
       "  </thead>\n",
       "  <tbody>\n",
       "    <tr>\n",
       "      <th>4</th>\n",
       "      <td>Clymer</td>\n",
       "      <td>George</td>\n",
       "      <td>1739-03-16</td>\n",
       "      <td>M</td>\n",
       "      <td>rep</td>\n",
       "      <td>PA</td>\n",
       "      <td>NaN</td>\n",
       "    </tr>\n",
       "    <tr>\n",
       "      <th>19</th>\n",
       "      <td>Maclay</td>\n",
       "      <td>William</td>\n",
       "      <td>1737-07-20</td>\n",
       "      <td>M</td>\n",
       "      <td>sen</td>\n",
       "      <td>PA</td>\n",
       "      <td>Anti-Administration</td>\n",
       "    </tr>\n",
       "    <tr>\n",
       "      <th>21</th>\n",
       "      <td>Morris</td>\n",
       "      <td>Robert</td>\n",
       "      <td>1734-01-20</td>\n",
       "      <td>M</td>\n",
       "      <td>sen</td>\n",
       "      <td>PA</td>\n",
       "      <td>Pro-Administration</td>\n",
       "    </tr>\n",
       "    <tr>\n",
       "      <th>27</th>\n",
       "      <td>Wynkoop</td>\n",
       "      <td>Henry</td>\n",
       "      <td>1737-03-02</td>\n",
       "      <td>M</td>\n",
       "      <td>rep</td>\n",
       "      <td>PA</td>\n",
       "      <td>NaN</td>\n",
       "    </tr>\n",
       "    <tr>\n",
       "      <th>38</th>\n",
       "      <td>Jacobs</td>\n",
       "      <td>Israel</td>\n",
       "      <td>1726-06-09</td>\n",
       "      <td>M</td>\n",
       "      <td>rep</td>\n",
       "      <td>PA</td>\n",
       "      <td>NaN</td>\n",
       "    </tr>\n",
       "    <tr>\n",
       "      <th>...</th>\n",
       "      <td>...</td>\n",
       "      <td>...</td>\n",
       "      <td>...</td>\n",
       "      <td>...</td>\n",
       "      <td>...</td>\n",
       "      <td>...</td>\n",
       "      <td>...</td>\n",
       "    </tr>\n",
       "    <tr>\n",
       "      <th>11887</th>\n",
       "      <td>Brady</td>\n",
       "      <td>Robert</td>\n",
       "      <td>1945-04-07</td>\n",
       "      <td>M</td>\n",
       "      <td>rep</td>\n",
       "      <td>PA</td>\n",
       "      <td>Democrat</td>\n",
       "    </tr>\n",
       "    <tr>\n",
       "      <th>11926</th>\n",
       "      <td>Shuster</td>\n",
       "      <td>Bill</td>\n",
       "      <td>1961-01-10</td>\n",
       "      <td>M</td>\n",
       "      <td>rep</td>\n",
       "      <td>PA</td>\n",
       "      <td>Republican</td>\n",
       "    </tr>\n",
       "    <tr>\n",
       "      <th>11938</th>\n",
       "      <td>Rothfus</td>\n",
       "      <td>Keith</td>\n",
       "      <td>1962-04-25</td>\n",
       "      <td>M</td>\n",
       "      <td>rep</td>\n",
       "      <td>PA</td>\n",
       "      <td>Republican</td>\n",
       "    </tr>\n",
       "    <tr>\n",
       "      <th>11952</th>\n",
       "      <td>Costello</td>\n",
       "      <td>Ryan</td>\n",
       "      <td>1976-09-07</td>\n",
       "      <td>M</td>\n",
       "      <td>rep</td>\n",
       "      <td>PA</td>\n",
       "      <td>Republican</td>\n",
       "    </tr>\n",
       "    <tr>\n",
       "      <th>11966</th>\n",
       "      <td>Marino</td>\n",
       "      <td>Tom</td>\n",
       "      <td>1952-08-15</td>\n",
       "      <td>M</td>\n",
       "      <td>rep</td>\n",
       "      <td>PA</td>\n",
       "      <td>Republican</td>\n",
       "    </tr>\n",
       "  </tbody>\n",
       "</table>\n",
       "<p>1053 rows × 7 columns</p>\n",
       "</div>"
      ],
      "text/plain": [
       "      last_name first_name   birthday gender type state                party\n",
       "4        Clymer     George 1739-03-16      M  rep    PA                  NaN\n",
       "19       Maclay    William 1737-07-20      M  sen    PA  Anti-Administration\n",
       "21       Morris     Robert 1734-01-20      M  sen    PA   Pro-Administration\n",
       "27      Wynkoop      Henry 1737-03-02      M  rep    PA                  NaN\n",
       "38       Jacobs     Israel 1726-06-09      M  rep    PA                  NaN\n",
       "...         ...        ...        ...    ...  ...   ...                  ...\n",
       "11887     Brady     Robert 1945-04-07      M  rep    PA             Democrat\n",
       "11926   Shuster       Bill 1961-01-10      M  rep    PA           Republican\n",
       "11938   Rothfus      Keith 1962-04-25      M  rep    PA           Republican\n",
       "11952  Costello       Ryan 1976-09-07      M  rep    PA           Republican\n",
       "11966    Marino        Tom 1952-08-15      M  rep    PA           Republican\n",
       "\n",
       "[1053 rows x 7 columns]"
      ]
     },
     "execution_count": 18,
     "metadata": {},
     "output_type": "execute_result"
    }
   ],
   "source": [
    "by_state.get_group(\"PA\")"
   ]
  },
  {
   "cell_type": "markdown",
   "metadata": {},
   "source": [
    "**This is virtually equivalent to using .loc[]. You could get the same output with something like df.loc[df[\"state\"] == \"PA\"].**"
   ]
  },
  {
   "cell_type": "markdown",
   "metadata": {},
   "source": [
    "Note: I use the generic term Pandas GroupBy object to refer to both a DataFrameGroupBy object or a SeriesGroupBy object, which have a lot of commonalities between them.\n",
    "\n",
    "It’s also worth mentioning that .groupby() does do some, but not all, of the splitting work by building a Grouping class instance for each key that you pass. However, many of the methods of the BaseGrouper class that holds these groupings are called lazily rather than at __init__(), and many also use a cached property design."
   ]
  },
  {
   "cell_type": "markdown",
   "metadata": {},
   "source": [
    "Next, what about the apply part? You can think of this step of the process as applying the same operation (or callable) to every “sub-table” that is produced by the splitting stage. (I don’t know if “sub-table” is the technical term, but I haven’t found a better one 🤷‍♂️)\n",
    "\n",
    "From the Pandas GroupBy object by_state, you can grab the initial U.S. state and DataFrame with next(). When you iterate over a Pandas GroupBy object, you’ll get pairs that you can unpack into two variables"
   ]
  },
  {
   "cell_type": "code",
   "execution_count": 19,
   "metadata": {},
   "outputs": [
    {
     "data": {
      "text/html": [
       "<div>\n",
       "<style scoped>\n",
       "    .dataframe tbody tr th:only-of-type {\n",
       "        vertical-align: middle;\n",
       "    }\n",
       "\n",
       "    .dataframe tbody tr th {\n",
       "        vertical-align: top;\n",
       "    }\n",
       "\n",
       "    .dataframe thead th {\n",
       "        text-align: right;\n",
       "    }\n",
       "</style>\n",
       "<table border=\"1\" class=\"dataframe\">\n",
       "  <thead>\n",
       "    <tr style=\"text-align: right;\">\n",
       "      <th></th>\n",
       "      <th>last_name</th>\n",
       "      <th>first_name</th>\n",
       "      <th>birthday</th>\n",
       "      <th>gender</th>\n",
       "      <th>type</th>\n",
       "      <th>state</th>\n",
       "      <th>party</th>\n",
       "    </tr>\n",
       "  </thead>\n",
       "  <tbody>\n",
       "    <tr>\n",
       "      <th>6617</th>\n",
       "      <td>Waskey</td>\n",
       "      <td>Frank</td>\n",
       "      <td>1875-04-20</td>\n",
       "      <td>M</td>\n",
       "      <td>rep</td>\n",
       "      <td>AK</td>\n",
       "      <td>Democrat</td>\n",
       "    </tr>\n",
       "    <tr>\n",
       "      <th>6645</th>\n",
       "      <td>Cale</td>\n",
       "      <td>Thomas</td>\n",
       "      <td>1848-09-17</td>\n",
       "      <td>M</td>\n",
       "      <td>rep</td>\n",
       "      <td>AK</td>\n",
       "      <td>Independent</td>\n",
       "    </tr>\n",
       "    <tr>\n",
       "      <th>7440</th>\n",
       "      <td>Grigsby</td>\n",
       "      <td>George</td>\n",
       "      <td>1874-12-02</td>\n",
       "      <td>M</td>\n",
       "      <td>rep</td>\n",
       "      <td>AK</td>\n",
       "      <td>NaN</td>\n",
       "    </tr>\n",
       "  </tbody>\n",
       "</table>\n",
       "</div>"
      ],
      "text/plain": [
       "     last_name first_name   birthday gender type state        party\n",
       "6617    Waskey      Frank 1875-04-20      M  rep    AK     Democrat\n",
       "6645      Cale     Thomas 1848-09-17      M  rep    AK  Independent\n",
       "7440   Grigsby     George 1874-12-02      M  rep    AK          NaN"
      ]
     },
     "execution_count": 19,
     "metadata": {},
     "output_type": "execute_result"
    }
   ],
   "source": [
    "state, frame = next(iter(by_state))  # First tuple from iterator\n",
    "state\n",
    "\n",
    "frame.head(3)\n"
   ]
  },
  {
   "cell_type": "code",
   "execution_count": 20,
   "metadata": {},
   "outputs": [
    {
     "data": {
      "text/plain": [
       "state\n",
       "AK     16\n",
       "AL    209\n",
       "AR    117\n",
       "AS      2\n",
       "AZ     49\n",
       "     ... \n",
       "VT    115\n",
       "WA     96\n",
       "WI    198\n",
       "WV    120\n",
       "WY     40\n",
       "Name: last_name, Length: 58, dtype: int64"
      ]
     },
     "execution_count": 20,
     "metadata": {},
     "output_type": "execute_result"
    }
   ],
   "source": [
    "df.groupby(\"state\")[\"last_name\"].count()"
   ]
  },
  {
   "cell_type": "markdown",
   "metadata": {},
   "source": [
    "The apply stage, when applied to your single, subsetted DataFrame, would look like this:"
   ]
  },
  {
   "cell_type": "code",
   "execution_count": 21,
   "metadata": {},
   "outputs": [
    {
     "data": {
      "text/plain": [
       "16"
      ]
     },
     "execution_count": 21,
     "metadata": {},
     "output_type": "execute_result"
    }
   ],
   "source": [
    "frame[\"last_name\"].count()  # Count for state == 'AK'"
   ]
  },
  {
   "cell_type": "markdown",
   "metadata": {},
   "source": [
    "## Example 2: Air Quality Dataset"
   ]
  },
  {
   "cell_type": "markdown",
   "metadata": {},
   "source": [
    "The air quality dataset contains hourly readings from a gas sensor device in Italy. Missing values are denoted with -200 in the CSV file. You can use read_csv() to combine two columns into a timestamp while using a subset of the other columns:"
   ]
  },
  {
   "cell_type": "code",
   "execution_count": 22,
   "metadata": {},
   "outputs": [
    {
     "ename": "ValueError",
     "evalue": "Passed header names mismatches usecols",
     "output_type": "error",
     "traceback": [
      "\u001b[0;31m---------------------------------------------------------------------------\u001b[0m",
      "\u001b[0;31mValueError\u001b[0m                                Traceback (most recent call last)",
      "\u001b[0;32m<ipython-input-22-b93257b49e33>\u001b[0m in \u001b[0;36m<module>\u001b[0;34m\u001b[0m\n\u001b[1;32m      5\u001b[0m     \u001b[0mparse_dates\u001b[0m\u001b[0;34m=\u001b[0m\u001b[0;34m[\u001b[0m\u001b[0;34m[\u001b[0m\u001b[0;34m\"Date\"\u001b[0m\u001b[0;34m,\u001b[0m \u001b[0;34m\"Time\"\u001b[0m\u001b[0;34m]\u001b[0m\u001b[0;34m]\u001b[0m\u001b[0;34m,\u001b[0m\u001b[0;34m\u001b[0m\u001b[0;34m\u001b[0m\u001b[0m\n\u001b[1;32m      6\u001b[0m     \u001b[0mna_values\u001b[0m\u001b[0;34m=\u001b[0m\u001b[0;34m[\u001b[0m\u001b[0;34m-\u001b[0m\u001b[0;36m200\u001b[0m\u001b[0;34m]\u001b[0m\u001b[0;34m,\u001b[0m\u001b[0;34m\u001b[0m\u001b[0;34m\u001b[0m\u001b[0m\n\u001b[0;32m----> 7\u001b[0;31m     \u001b[0musecols\u001b[0m\u001b[0;34m=\u001b[0m\u001b[0;34m[\u001b[0m\u001b[0;34m\"Date\"\u001b[0m\u001b[0;34m,\u001b[0m \u001b[0;34m\"Time\"\u001b[0m\u001b[0;34m,\u001b[0m \u001b[0;34m\"CO(GT)\"\u001b[0m\u001b[0;34m,\u001b[0m \u001b[0;34m\"T\"\u001b[0m\u001b[0;34m,\u001b[0m \u001b[0;34m\"RH\"\u001b[0m\u001b[0;34m,\u001b[0m \u001b[0;34m\"AH\"\u001b[0m\u001b[0;34m]\u001b[0m\u001b[0;34m\u001b[0m\u001b[0;34m\u001b[0m\u001b[0m\n\u001b[0m\u001b[1;32m      8\u001b[0m \u001b[0;34m)\u001b[0m\u001b[0;34m.\u001b[0m\u001b[0mrename\u001b[0m\u001b[0;34m(\u001b[0m\u001b[0;34m\u001b[0m\u001b[0;34m\u001b[0m\u001b[0m\n\u001b[1;32m      9\u001b[0m     columns={\n",
      "\u001b[0;32m~/anaconda3/lib/python3.7/site-packages/pandas/io/parsers.py\u001b[0m in \u001b[0;36mparser_f\u001b[0;34m(filepath_or_buffer, sep, delimiter, header, names, index_col, usecols, squeeze, prefix, mangle_dupe_cols, dtype, engine, converters, true_values, false_values, skipinitialspace, skiprows, skipfooter, nrows, na_values, keep_default_na, na_filter, verbose, skip_blank_lines, parse_dates, infer_datetime_format, keep_date_col, date_parser, dayfirst, cache_dates, iterator, chunksize, compression, thousands, decimal, lineterminator, quotechar, quoting, doublequote, escapechar, comment, encoding, dialect, error_bad_lines, warn_bad_lines, delim_whitespace, low_memory, memory_map, float_precision)\u001b[0m\n\u001b[1;32m    674\u001b[0m         )\n\u001b[1;32m    675\u001b[0m \u001b[0;34m\u001b[0m\u001b[0m\n\u001b[0;32m--> 676\u001b[0;31m         \u001b[0;32mreturn\u001b[0m \u001b[0m_read\u001b[0m\u001b[0;34m(\u001b[0m\u001b[0mfilepath_or_buffer\u001b[0m\u001b[0;34m,\u001b[0m \u001b[0mkwds\u001b[0m\u001b[0;34m)\u001b[0m\u001b[0;34m\u001b[0m\u001b[0;34m\u001b[0m\u001b[0m\n\u001b[0m\u001b[1;32m    677\u001b[0m \u001b[0;34m\u001b[0m\u001b[0m\n\u001b[1;32m    678\u001b[0m     \u001b[0mparser_f\u001b[0m\u001b[0;34m.\u001b[0m\u001b[0m__name__\u001b[0m \u001b[0;34m=\u001b[0m \u001b[0mname\u001b[0m\u001b[0;34m\u001b[0m\u001b[0;34m\u001b[0m\u001b[0m\n",
      "\u001b[0;32m~/anaconda3/lib/python3.7/site-packages/pandas/io/parsers.py\u001b[0m in \u001b[0;36m_read\u001b[0;34m(filepath_or_buffer, kwds)\u001b[0m\n\u001b[1;32m    446\u001b[0m \u001b[0;34m\u001b[0m\u001b[0m\n\u001b[1;32m    447\u001b[0m     \u001b[0;31m# Create the parser.\u001b[0m\u001b[0;34m\u001b[0m\u001b[0;34m\u001b[0m\u001b[0;34m\u001b[0m\u001b[0m\n\u001b[0;32m--> 448\u001b[0;31m     \u001b[0mparser\u001b[0m \u001b[0;34m=\u001b[0m \u001b[0mTextFileReader\u001b[0m\u001b[0;34m(\u001b[0m\u001b[0mfp_or_buf\u001b[0m\u001b[0;34m,\u001b[0m \u001b[0;34m**\u001b[0m\u001b[0mkwds\u001b[0m\u001b[0;34m)\u001b[0m\u001b[0;34m\u001b[0m\u001b[0;34m\u001b[0m\u001b[0m\n\u001b[0m\u001b[1;32m    449\u001b[0m \u001b[0;34m\u001b[0m\u001b[0m\n\u001b[1;32m    450\u001b[0m     \u001b[0;32mif\u001b[0m \u001b[0mchunksize\u001b[0m \u001b[0;32mor\u001b[0m \u001b[0miterator\u001b[0m\u001b[0;34m:\u001b[0m\u001b[0;34m\u001b[0m\u001b[0;34m\u001b[0m\u001b[0m\n",
      "\u001b[0;32m~/anaconda3/lib/python3.7/site-packages/pandas/io/parsers.py\u001b[0m in \u001b[0;36m__init__\u001b[0;34m(self, f, engine, **kwds)\u001b[0m\n\u001b[1;32m    878\u001b[0m             \u001b[0mself\u001b[0m\u001b[0;34m.\u001b[0m\u001b[0moptions\u001b[0m\u001b[0;34m[\u001b[0m\u001b[0;34m\"has_index_names\"\u001b[0m\u001b[0;34m]\u001b[0m \u001b[0;34m=\u001b[0m \u001b[0mkwds\u001b[0m\u001b[0;34m[\u001b[0m\u001b[0;34m\"has_index_names\"\u001b[0m\u001b[0;34m]\u001b[0m\u001b[0;34m\u001b[0m\u001b[0;34m\u001b[0m\u001b[0m\n\u001b[1;32m    879\u001b[0m \u001b[0;34m\u001b[0m\u001b[0m\n\u001b[0;32m--> 880\u001b[0;31m         \u001b[0mself\u001b[0m\u001b[0;34m.\u001b[0m\u001b[0m_make_engine\u001b[0m\u001b[0;34m(\u001b[0m\u001b[0mself\u001b[0m\u001b[0;34m.\u001b[0m\u001b[0mengine\u001b[0m\u001b[0;34m)\u001b[0m\u001b[0;34m\u001b[0m\u001b[0;34m\u001b[0m\u001b[0m\n\u001b[0m\u001b[1;32m    881\u001b[0m \u001b[0;34m\u001b[0m\u001b[0m\n\u001b[1;32m    882\u001b[0m     \u001b[0;32mdef\u001b[0m \u001b[0mclose\u001b[0m\u001b[0;34m(\u001b[0m\u001b[0mself\u001b[0m\u001b[0;34m)\u001b[0m\u001b[0;34m:\u001b[0m\u001b[0;34m\u001b[0m\u001b[0;34m\u001b[0m\u001b[0m\n",
      "\u001b[0;32m~/anaconda3/lib/python3.7/site-packages/pandas/io/parsers.py\u001b[0m in \u001b[0;36m_make_engine\u001b[0;34m(self, engine)\u001b[0m\n\u001b[1;32m   1112\u001b[0m     \u001b[0;32mdef\u001b[0m \u001b[0m_make_engine\u001b[0m\u001b[0;34m(\u001b[0m\u001b[0mself\u001b[0m\u001b[0;34m,\u001b[0m \u001b[0mengine\u001b[0m\u001b[0;34m=\u001b[0m\u001b[0;34m\"c\"\u001b[0m\u001b[0;34m)\u001b[0m\u001b[0;34m:\u001b[0m\u001b[0;34m\u001b[0m\u001b[0;34m\u001b[0m\u001b[0m\n\u001b[1;32m   1113\u001b[0m         \u001b[0;32mif\u001b[0m \u001b[0mengine\u001b[0m \u001b[0;34m==\u001b[0m \u001b[0;34m\"c\"\u001b[0m\u001b[0;34m:\u001b[0m\u001b[0;34m\u001b[0m\u001b[0;34m\u001b[0m\u001b[0m\n\u001b[0;32m-> 1114\u001b[0;31m             \u001b[0mself\u001b[0m\u001b[0;34m.\u001b[0m\u001b[0m_engine\u001b[0m \u001b[0;34m=\u001b[0m \u001b[0mCParserWrapper\u001b[0m\u001b[0;34m(\u001b[0m\u001b[0mself\u001b[0m\u001b[0;34m.\u001b[0m\u001b[0mf\u001b[0m\u001b[0;34m,\u001b[0m \u001b[0;34m**\u001b[0m\u001b[0mself\u001b[0m\u001b[0;34m.\u001b[0m\u001b[0moptions\u001b[0m\u001b[0;34m)\u001b[0m\u001b[0;34m\u001b[0m\u001b[0;34m\u001b[0m\u001b[0m\n\u001b[0m\u001b[1;32m   1115\u001b[0m         \u001b[0;32melse\u001b[0m\u001b[0;34m:\u001b[0m\u001b[0;34m\u001b[0m\u001b[0;34m\u001b[0m\u001b[0m\n\u001b[1;32m   1116\u001b[0m             \u001b[0;32mif\u001b[0m \u001b[0mengine\u001b[0m \u001b[0;34m==\u001b[0m \u001b[0;34m\"python\"\u001b[0m\u001b[0;34m:\u001b[0m\u001b[0;34m\u001b[0m\u001b[0;34m\u001b[0m\u001b[0m\n",
      "\u001b[0;32m~/anaconda3/lib/python3.7/site-packages/pandas/io/parsers.py\u001b[0m in \u001b[0;36m__init__\u001b[0;34m(self, src, **kwds)\u001b[0m\n\u001b[1;32m   1889\u001b[0m         \u001b[0mkwds\u001b[0m\u001b[0;34m[\u001b[0m\u001b[0;34m\"usecols\"\u001b[0m\u001b[0;34m]\u001b[0m \u001b[0;34m=\u001b[0m \u001b[0mself\u001b[0m\u001b[0;34m.\u001b[0m\u001b[0musecols\u001b[0m\u001b[0;34m\u001b[0m\u001b[0;34m\u001b[0m\u001b[0m\n\u001b[1;32m   1890\u001b[0m \u001b[0;34m\u001b[0m\u001b[0m\n\u001b[0;32m-> 1891\u001b[0;31m         \u001b[0mself\u001b[0m\u001b[0;34m.\u001b[0m\u001b[0m_reader\u001b[0m \u001b[0;34m=\u001b[0m \u001b[0mparsers\u001b[0m\u001b[0;34m.\u001b[0m\u001b[0mTextReader\u001b[0m\u001b[0;34m(\u001b[0m\u001b[0msrc\u001b[0m\u001b[0;34m,\u001b[0m \u001b[0;34m**\u001b[0m\u001b[0mkwds\u001b[0m\u001b[0;34m)\u001b[0m\u001b[0;34m\u001b[0m\u001b[0;34m\u001b[0m\u001b[0m\n\u001b[0m\u001b[1;32m   1892\u001b[0m         \u001b[0mself\u001b[0m\u001b[0;34m.\u001b[0m\u001b[0munnamed_cols\u001b[0m \u001b[0;34m=\u001b[0m \u001b[0mself\u001b[0m\u001b[0;34m.\u001b[0m\u001b[0m_reader\u001b[0m\u001b[0;34m.\u001b[0m\u001b[0munnamed_cols\u001b[0m\u001b[0;34m\u001b[0m\u001b[0;34m\u001b[0m\u001b[0m\n\u001b[1;32m   1893\u001b[0m \u001b[0;34m\u001b[0m\u001b[0m\n",
      "\u001b[0;32mpandas/_libs/parsers.pyx\u001b[0m in \u001b[0;36mpandas._libs.parsers.TextReader.__cinit__\u001b[0;34m()\u001b[0m\n",
      "\u001b[0;32mpandas/_libs/parsers.pyx\u001b[0m in \u001b[0;36mpandas._libs.parsers.TextReader._get_header\u001b[0;34m()\u001b[0m\n",
      "\u001b[0;31mValueError\u001b[0m: Passed header names mismatches usecols"
     ]
    }
   ],
   "source": [
    "#import pandas as pd\n",
    "\n",
    "df = pd.read_csv(\n",
    "    \"airqual.csv\",\n",
    "    parse_dates=[[\"Date\", \"Time\"]],\n",
    "    na_values=[-200],\n",
    "    usecols=[\"Date\", \"Time\", \"CO(GT)\", \"T\", \"RH\", \"AH\"]\n",
    ").rename(\n",
    "    columns={\n",
    "        \"CO(GT)\": \"co\",\n",
    "        \"Date_Time\": \"tstamp\",\n",
    "        \"T\": \"temp_c\",\n",
    "        \"RH\": \"rel_hum\",\n",
    "        \"AH\": \"abs_hum\",\n",
    "    }\n",
    ").set_index(\"tstamp\")"
   ]
  },
  {
   "cell_type": "code",
   "execution_count": null,
   "metadata": {},
   "outputs": [],
   "source": []
  },
  {
   "cell_type": "markdown",
   "metadata": {},
   "source": [
    "## Example 3: News Aggregator Dataset"
   ]
  },
  {
   "cell_type": "code",
   "execution_count": 23,
   "metadata": {},
   "outputs": [],
   "source": [
    "import datetime as dt\n",
    "import pandas as pd\n",
    "\n",
    "def parse_millisecond_timestamp(ts: int) -> dt.datetime:\n",
    "    \"\"\"Convert ms since Unix epoch to UTC datetime instance.\"\"\"\n",
    "    return dt.datetime.fromtimestamp(ts / 1000, tz=dt.timezone.utc)\n",
    "\n",
    "df = pd.read_csv(\n",
    "    \"news.csv\",\n",
    "    sep=\"\\t\",\n",
    "    header=None,\n",
    "    index_col=0,\n",
    "    names=[\"title\", \"url\", \"outlet\", \"category\", \"cluster\", \"host\", \"tstamp\"],\n",
    "    parse_dates=[\"tstamp\"],\n",
    "    date_parser=parse_millisecond_timestamp,\n",
    "    dtype={\n",
    "        \"outlet\": \"category\",\n",
    "        \"category\": \"category\",\n",
    "        \"cluster\": \"category\",\n",
    "        \"host\": \"category\",\n",
    "    },\n",
    ")"
   ]
  },
  {
   "cell_type": "markdown",
   "metadata": {},
   "source": [
    "To read it into memory with the proper dyptes, you need a helper function to parse the timestamp column. This is because it’s expressed as the number of milliseconds since the Unix epoch, rather than fractional seconds, which is the convention. Similar to what you did before, you can use the Categorical dtype to efficiently encode columns that have a relatively small number of unique values relative to the column length.\n",
    "\n",
    "Each row of the dataset contains the title, URL, publishing outlet’s name, and domain, as well as the publish timestamp. cluster is a random ID for the topic cluster to which an article belongs. category is the news category and contains the following options:\n",
    "\n",
    "b for business\n",
    "t for science and technology\n",
    "e for entertainment\n",
    "m for health"
   ]
  },
  {
   "cell_type": "code",
   "execution_count": 24,
   "metadata": {},
   "outputs": [
    {
     "data": {
      "text/plain": [
       "title       Fed official says weak data caused by weather,...\n",
       "url         http://www.latimes.com/business/money/la-fi-mo...\n",
       "outlet                                      Los Angeles Times\n",
       "category                                                    b\n",
       "cluster                         ddUyU0VZz0BRneMioxUPQVP6sIxvM\n",
       "host                                          www.latimes.com\n",
       "tstamp                       2014-03-10 16:52:50.698000+00:00\n",
       "Name: 1, dtype: object"
      ]
     },
     "execution_count": 24,
     "metadata": {},
     "output_type": "execute_result"
    }
   ],
   "source": [
    "df.iloc[0]"
   ]
  },
  {
   "cell_type": "code",
   "execution_count": 25,
   "metadata": {},
   "outputs": [
    {
     "name": "stdout",
     "output_type": "stream",
     "text": [
      "<class 'pandas.core.frame.DataFrame'>\n",
      "Int64Index: 422419 entries, 1 to 422937\n",
      "Data columns (total 7 columns):\n",
      " #   Column    Non-Null Count   Dtype              \n",
      "---  ------    --------------   -----              \n",
      " 0   title     422419 non-null  object             \n",
      " 1   url       422419 non-null  object             \n",
      " 2   outlet    422417 non-null  category           \n",
      " 3   category  422419 non-null  category           \n",
      " 4   cluster   422419 non-null  category           \n",
      " 5   host      422419 non-null  category           \n",
      " 6   tstamp    422419 non-null  datetime64[ns, UTC]\n",
      "dtypes: category(4), datetime64[ns, UTC](1), object(2)\n",
      "memory usage: 16.9+ MB\n"
     ]
    }
   ],
   "source": [
    "df.info()"
   ]
  },
  {
   "cell_type": "code",
   "execution_count": 26,
   "metadata": {},
   "outputs": [
    {
     "data": {
      "text/html": [
       "<div>\n",
       "<style scoped>\n",
       "    .dataframe tbody tr th:only-of-type {\n",
       "        vertical-align: middle;\n",
       "    }\n",
       "\n",
       "    .dataframe tbody tr th {\n",
       "        vertical-align: top;\n",
       "    }\n",
       "\n",
       "    .dataframe thead th {\n",
       "        text-align: right;\n",
       "    }\n",
       "</style>\n",
       "<table border=\"1\" class=\"dataframe\">\n",
       "  <thead>\n",
       "    <tr style=\"text-align: right;\">\n",
       "      <th></th>\n",
       "      <th>title</th>\n",
       "      <th>url</th>\n",
       "      <th>outlet</th>\n",
       "      <th>category</th>\n",
       "      <th>cluster</th>\n",
       "      <th>host</th>\n",
       "      <th>tstamp</th>\n",
       "    </tr>\n",
       "  </thead>\n",
       "  <tbody>\n",
       "    <tr>\n",
       "      <th>1</th>\n",
       "      <td>Fed official says weak data caused by weather,...</td>\n",
       "      <td>http://www.latimes.com/business/money/la-fi-mo...</td>\n",
       "      <td>Los Angeles Times</td>\n",
       "      <td>b</td>\n",
       "      <td>ddUyU0VZz0BRneMioxUPQVP6sIxvM</td>\n",
       "      <td>www.latimes.com</td>\n",
       "      <td>2014-03-10 16:52:50.698000+00:00</td>\n",
       "    </tr>\n",
       "    <tr>\n",
       "      <th>2</th>\n",
       "      <td>Fed's Charles Plosser sees high bar for change...</td>\n",
       "      <td>http://www.livemint.com/Politics/H2EvwJSK2VE6O...</td>\n",
       "      <td>Livemint</td>\n",
       "      <td>b</td>\n",
       "      <td>ddUyU0VZz0BRneMioxUPQVP6sIxvM</td>\n",
       "      <td>www.livemint.com</td>\n",
       "      <td>2014-03-10 16:52:51.207000+00:00</td>\n",
       "    </tr>\n",
       "    <tr>\n",
       "      <th>3</th>\n",
       "      <td>US open: Stocks fall after Fed official hints ...</td>\n",
       "      <td>http://www.ifamagazine.com/news/us-open-stocks...</td>\n",
       "      <td>IFA Magazine</td>\n",
       "      <td>b</td>\n",
       "      <td>ddUyU0VZz0BRneMioxUPQVP6sIxvM</td>\n",
       "      <td>www.ifamagazine.com</td>\n",
       "      <td>2014-03-10 16:52:51.550000+00:00</td>\n",
       "    </tr>\n",
       "    <tr>\n",
       "      <th>4</th>\n",
       "      <td>Fed risks falling 'behind the curve', Charles ...</td>\n",
       "      <td>http://www.ifamagazine.com/news/fed-risks-fall...</td>\n",
       "      <td>IFA Magazine</td>\n",
       "      <td>b</td>\n",
       "      <td>ddUyU0VZz0BRneMioxUPQVP6sIxvM</td>\n",
       "      <td>www.ifamagazine.com</td>\n",
       "      <td>2014-03-10 16:52:51.793000+00:00</td>\n",
       "    </tr>\n",
       "    <tr>\n",
       "      <th>5</th>\n",
       "      <td>Fed's Plosser: Nasty Weather Has Curbed Job Gr...</td>\n",
       "      <td>http://www.moneynews.com/Economy/federal-reser...</td>\n",
       "      <td>Moneynews</td>\n",
       "      <td>b</td>\n",
       "      <td>ddUyU0VZz0BRneMioxUPQVP6sIxvM</td>\n",
       "      <td>www.moneynews.com</td>\n",
       "      <td>2014-03-10 16:52:52.027000+00:00</td>\n",
       "    </tr>\n",
       "  </tbody>\n",
       "</table>\n",
       "</div>"
      ],
      "text/plain": [
       "                                               title                                                url             outlet category                        cluster                 host                           tstamp\n",
       "1  Fed official says weak data caused by weather,...  http://www.latimes.com/business/money/la-fi-mo...  Los Angeles Times        b  ddUyU0VZz0BRneMioxUPQVP6sIxvM      www.latimes.com 2014-03-10 16:52:50.698000+00:00\n",
       "2  Fed's Charles Plosser sees high bar for change...  http://www.livemint.com/Politics/H2EvwJSK2VE6O...           Livemint        b  ddUyU0VZz0BRneMioxUPQVP6sIxvM     www.livemint.com 2014-03-10 16:52:51.207000+00:00\n",
       "3  US open: Stocks fall after Fed official hints ...  http://www.ifamagazine.com/news/us-open-stocks...       IFA Magazine        b  ddUyU0VZz0BRneMioxUPQVP6sIxvM  www.ifamagazine.com 2014-03-10 16:52:51.550000+00:00\n",
       "4  Fed risks falling 'behind the curve', Charles ...  http://www.ifamagazine.com/news/fed-risks-fall...       IFA Magazine        b  ddUyU0VZz0BRneMioxUPQVP6sIxvM  www.ifamagazine.com 2014-03-10 16:52:51.793000+00:00\n",
       "5  Fed's Plosser: Nasty Weather Has Curbed Job Gr...  http://www.moneynews.com/Economy/federal-reser...          Moneynews        b  ddUyU0VZz0BRneMioxUPQVP6sIxvM    www.moneynews.com 2014-03-10 16:52:52.027000+00:00"
      ]
     },
     "execution_count": 26,
     "metadata": {},
     "output_type": "execute_result"
    }
   ],
   "source": [
    "df.head()"
   ]
  },
  {
   "cell_type": "code",
   "execution_count": 28,
   "metadata": {},
   "outputs": [
    {
     "data": {
      "text/plain": [
       "e    152469\n",
       "b    115967\n",
       "t    108344\n",
       "m     45639\n",
       "Name: category, dtype: int64"
      ]
     },
     "execution_count": 28,
     "metadata": {},
     "output_type": "execute_result"
    }
   ],
   "source": [
    "df.category.value_counts()"
   ]
  },
  {
   "cell_type": "markdown",
   "metadata": {},
   "source": [
    "### Using Lambda Functions in .groupby()"
   ]
  },
  {
   "cell_type": "markdown",
   "metadata": {},
   "source": [
    "This dataset invites a lot more potentially involved questions. I’ll throw a random but meaningful one out there: which outlets talk most about the Federal Reserve? Let’s assume for simplicity that this entails searching for case-sensitive mentions of \"Fed\". Bear in mind that this may generate some false positives with terms like “Federal Government.”\n",
    "\n",
    "To count mentions by outlet, you can call .groupby() on the outlet, and then quite literally .apply() a function on each group:"
   ]
  },
  {
   "cell_type": "code",
   "execution_count": 29,
   "metadata": {},
   "outputs": [
    {
     "data": {
      "text/plain": [
       "outlet\n",
       "Reuters                         161\n",
       "NASDAQ                          103\n",
       "Businessweek                     93\n",
       "Investing.com                    66\n",
       "Wall Street Journal \\(blog\\)     61\n",
       "MarketWatch                      56\n",
       "Moneynews                        55\n",
       "Bloomberg                        53\n",
       "GlobalPost                       51\n",
       "Economic Times                   44\n",
       "Name: title, dtype: int64"
      ]
     },
     "execution_count": 29,
     "metadata": {},
     "output_type": "execute_result"
    }
   ],
   "source": [
    "df.groupby(\"outlet\", sort=False)[\"title\"].apply(\n",
    "    lambda ser: ser.str.contains(\"Fed\").sum()\n",
    ").nlargest(10)"
   ]
  },
  {
   "cell_type": "markdown",
   "metadata": {},
   "source": [
    "### Improving the Performance of .groupby()"
   ]
  },
  {
   "cell_type": "markdown",
   "metadata": {},
   "source": [
    "Let’s backtrack again to .groupby(...).apply() to see why this pattern can be suboptimal. To get some background information, check out How to Speed Up Your Pandas Projects. What may happen with .apply() is that it will effectively perform a Python loop over each group. While the .groupby(...).apply() pattern can provide some flexibility, it can also inhibit Pandas from otherwise using its Cython-based optimizations.\n",
    "\n",
    "All that is to say that whenever you find yourself thinking about using .apply(), ask yourself if there’s a way to express the operation in a vectorized way. In that case, you can take advantage of the fact that .groupby() accepts not just one or more column names, but also many array-like structures:\n",
    "\n",
    "A 1-dimensional NumPy array\n",
    "A list\n",
    "A Pandas Series or Index\n",
    "Also note that .groupby() is a valid instance method for a Series, not just a DataFrame, so you can essentially inverse the splitting logic. With that in mind, you can first construct a Series of Booleans that indicate whether or not the title contains \"Fed\":"
   ]
  },
  {
   "cell_type": "code",
   "execution_count": 30,
   "metadata": {},
   "outputs": [
    {
     "data": {
      "text/plain": [
       "pandas.core.series.Series"
      ]
     },
     "execution_count": 30,
     "metadata": {},
     "output_type": "execute_result"
    }
   ],
   "source": [
    "mentions_fed = df[\"title\"].str.contains(\"Fed\")\n",
    "type(mentions_fed)\n"
   ]
  },
  {
   "cell_type": "markdown",
   "metadata": {},
   "source": [
    "Now, .groupby() is also a method of Series, so you can group one Series on another:"
   ]
  },
  {
   "cell_type": "code",
   "execution_count": 31,
   "metadata": {},
   "outputs": [
    {
     "data": {
      "text/plain": [
       "outlet\n",
       "Reuters                         161\n",
       "NASDAQ                          103\n",
       "Businessweek                     93\n",
       "Investing.com                    66\n",
       "Wall Street Journal \\(blog\\)     61\n",
       "MarketWatch                      56\n",
       "Moneynews                        55\n",
       "Bloomberg                        53\n",
       "GlobalPost                       51\n",
       "Economic Times                   44\n",
       "Name: title, dtype: uint32"
      ]
     },
     "execution_count": 31,
     "metadata": {},
     "output_type": "execute_result"
    }
   ],
   "source": [
    "import numpy as np\n",
    "mentions_fed.groupby(\n",
    "    df[\"outlet\"], sort=False\n",
    ").sum().nlargest(10).astype(np.uintc)\n",
    "\n"
   ]
  },
  {
   "cell_type": "markdown",
   "metadata": {},
   "source": [
    "The two Series don’t need to be columns of the same DataFrame object. They just need to be of the same shape:"
   ]
  },
  {
   "cell_type": "code",
   "execution_count": 32,
   "metadata": {},
   "outputs": [
    {
     "data": {
      "text/plain": [
       "(422419,)"
      ]
     },
     "execution_count": 32,
     "metadata": {},
     "output_type": "execute_result"
    }
   ],
   "source": [
    "mentions_fed.shape\n",
    "\n",
    "df[\"outlet\"].shape"
   ]
  },
  {
   "cell_type": "markdown",
   "metadata": {},
   "source": [
    "Finally, you can cast the result back to an unsigned integer with np.uintc if you’re determined to get the most compact result possible. Here’s a head-to-head comparison of the two versions that will produce the same result:"
   ]
  },
  {
   "cell_type": "code",
   "execution_count": 33,
   "metadata": {},
   "outputs": [
    {
     "data": {
      "text/plain": [
       "outlet\n",
       "Reuters                         161\n",
       "NASDAQ                          103\n",
       "Businessweek                     93\n",
       "Investing.com                    66\n",
       "Wall Street Journal \\(blog\\)     61\n",
       "MarketWatch                      56\n",
       "Moneynews                        55\n",
       "Bloomberg                        53\n",
       "GlobalPost                       51\n",
       "Economic Times                   44\n",
       "Name: title, dtype: int64"
      ]
     },
     "execution_count": 33,
     "metadata": {},
     "output_type": "execute_result"
    }
   ],
   "source": [
    "df.groupby(\"outlet\", sort=False)[\"title\"].apply(\n",
    "    lambda ser: ser.str.contains(\"Fed\").sum()\n",
    ").nlargest(10)"
   ]
  },
  {
   "cell_type": "code",
   "execution_count": 34,
   "metadata": {},
   "outputs": [
    {
     "data": {
      "text/plain": [
       "outlet\n",
       "Reuters                         161\n",
       "NASDAQ                          103\n",
       "Businessweek                     93\n",
       "Investing.com                    66\n",
       "Wall Street Journal \\(blog\\)     61\n",
       "MarketWatch                      56\n",
       "Moneynews                        55\n",
       "Bloomberg                        53\n",
       "GlobalPost                       51\n",
       "Economic Times                   44\n",
       "Name: title, dtype: uint32"
      ]
     },
     "execution_count": 34,
     "metadata": {},
     "output_type": "execute_result"
    }
   ],
   "source": [
    "# Version 2: using vectorization\n",
    "mentions_fed.groupby(\n",
    "    df[\"outlet\"], sort=False\n",
    ").sum().nlargest(10).astype(np.uintc)"
   ]
  },
  {
   "cell_type": "markdown",
   "metadata": {},
   "source": [
    "On my laptop, Version 1 takes 4.01 seconds, while Version 2 takes just 292 milliseconds. This is an impressive 14x difference in CPU time for a few hundred thousand rows. Consider how dramatic the difference becomes when your dataset grows to a few million rows!"
   ]
  },
  {
   "cell_type": "markdown",
   "metadata": {},
   "source": [
    "## Pandas GroupBy: Putting It All Together"
   ]
  },
  {
   "cell_type": "markdown",
   "metadata": {},
   "source": [
    "If you call dir() on a Pandas GroupBy object, then you’ll see enough methods there to make your head spin! It can be hard to keep track of all of the functionality of a Pandas GroupBy object. One way to clear the fog is to compartmentalize the different methods into what they do and how they behave.\n",
    "\n",
    "Broadly, methods of a Pandas GroupBy object fall into a handful of categories:\n",
    "\n",
    "Aggregation methods (also called reduction methods) “smush” many data points into an aggregated statistic about those data points. An example is to take the sum, mean, or median of 10 numbers, where the result is just a single number.\n",
    "\n",
    "Filter methods come back to you with a subset of the original DataFrame. This most commonly means using .filter() to drop entire groups based on some comparative statistic about that group and its sub-table. It also makes sense to include under this definition a number of methods that exclude particular rows from each group.\n",
    "\n",
    "Transformation methods return a DataFrame with the same shape and indices as the original, but with different values. With both aggregation and filter methods, the resulting DataFrame will commonly be smaller in size than the input DataFrame. This is not true of a transformation, which transforms individual values themselves but retains the shape of the original DataFrame.\n",
    "\n",
    "Meta methods are less concerned with the original object on which you called .groupby(), and more focused on giving you high-level information such as the number of groups and indices of those groups.\n",
    "\n",
    "Plotting methods mimic the API of plotting for a Pandas Series or DataFrame, but typically break the output into multiple subplots."
   ]
  },
  {
   "cell_type": "code",
   "execution_count": null,
   "metadata": {},
   "outputs": [],
   "source": []
  },
  {
   "cell_type": "code",
   "execution_count": null,
   "metadata": {},
   "outputs": [],
   "source": []
  },
  {
   "cell_type": "code",
   "execution_count": null,
   "metadata": {},
   "outputs": [],
   "source": []
  },
  {
   "cell_type": "code",
   "execution_count": null,
   "metadata": {},
   "outputs": [],
   "source": []
  }
 ],
 "metadata": {
  "kernelspec": {
   "display_name": "Python 3",
   "language": "python",
   "name": "python3"
  },
  "language_info": {
   "codemirror_mode": {
    "name": "ipython",
    "version": 3
   },
   "file_extension": ".py",
   "mimetype": "text/x-python",
   "name": "python",
   "nbconvert_exporter": "python",
   "pygments_lexer": "ipython3",
   "version": "3.7.6"
  },
  "toc": {
   "base_numbering": 1,
   "nav_menu": {},
   "number_sections": true,
   "sideBar": true,
   "skip_h1_title": true,
   "title_cell": "Table of Contents",
   "title_sidebar": "Contents",
   "toc_cell": false,
   "toc_position": {
    "height": "calc(100% - 180px)",
    "left": "10px",
    "top": "150px",
    "width": "384px"
   },
   "toc_section_display": true,
   "toc_window_display": true
  },
  "varInspector": {
   "cols": {
    "lenName": 16,
    "lenType": 16,
    "lenVar": 40
   },
   "kernels_config": {
    "python": {
     "delete_cmd_postfix": "",
     "delete_cmd_prefix": "del ",
     "library": "var_list.py",
     "varRefreshCmd": "print(var_dic_list())"
    },
    "r": {
     "delete_cmd_postfix": ") ",
     "delete_cmd_prefix": "rm(",
     "library": "var_list.r",
     "varRefreshCmd": "cat(var_dic_list()) "
    }
   },
   "position": {
    "height": "814px",
    "left": "1551px",
    "right": "20px",
    "top": "120px",
    "width": "349px"
   },
   "types_to_exclude": [
    "module",
    "function",
    "builtin_function_or_method",
    "instance",
    "_Feature"
   ],
   "window_display": true
  }
 },
 "nbformat": 4,
 "nbformat_minor": 4
}
